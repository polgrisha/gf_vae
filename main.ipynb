{
 "cells": [
  {
   "cell_type": "markdown",
   "metadata": {
    "id": "9tgA-mh3CuVd"
   },
   "source": [
    "# Lab 2\n",
    "\n",
    "## Task 4\n",
    "\n",
    "## Reporter: Polyakov Gregory\n",
    "\n",
    "### Description: \n",
    "\n",
    "Reimplement experiment from the article [\"Variational Inference with Gradient Flows\"](http://approximateinference.org/accepted/AltieriDuvenaud2015.pdf). Compare the results with the results from article and vanilla VAE.\n",
    "\n",
    "\n",
    "### Theory:\n",
    "\n",
    "Variational autoencoder optimizes ELBO:\n",
    "\n",
    "$$\\log p(x) \\geq \\mathcal{H}[q(z|x)] + \\mathbb{E}_{q(z|x)} \\log p(x, z)$$\n",
    "\n",
    "Where $\\mathcal{H}[q(z|x)]$ -- entropy of conditional distribution (modeled by encoder) of latent variable $Z$ with respect to obsevable sample $X$.\n",
    "\n",
    "$$Z \\sim \\mathcal{N}(\\mu, \\Sigma) \\Rightarrow \\mathcal{H} = D \\log |\\Sigma| + \\frac{D}{2}(1 + \\log 2\\pi) = \\mathcal{L}[q]$$\n",
    "\n",
    "$p(x, z) = p(x|z) \\cdot q(z)$ -- joint distribution of latent variable and $x$.\n",
    "$q(z) \\sim \\mathcal{N}(0, I)$ -- latent variable prior. $p(x|z)$ -- conditional distribution (modeled by decoder) of $X$ with respect to latent variable $Z$.\n",
    "\n",
    "We are using binarized MNIST. \n",
    "\n",
    "Let $\\xi$ be logits of the decoder. Than $X$ - multivariate random Bernoulli random variable with mean $\\xi$. \n",
    "$$p(x, z) = \\prod_{i=1}^D \\xi_i^{x_i}(1 - \\xi_i)^{(1 - x_i)} \\Rightarrow $$\n",
    "$$\\Rightarrow \\log p(x, z) = \\sum_{i=1}^D (x_i \\log \\xi_i + (1 - x_i) \\log (1 - \\xi_i)) \\text{ -- negative cross entropy between logits and observation}$$\n",
    "\n",
    "We'd like to augment this procedure with several gradient ascend steps to maximize ELBO even better.\n",
    "\n",
    "Given observable value of latent variable $z_0$, take several steps: \n",
    "$$z_{t+1} = z_t + \\alpha \\nabla \\log p(x, z_t)$$\n",
    "\n",
    "Also after gradient ascend steps we don't know latent varable distribution parameters. So, we'll calculate entropy as \n",
    "$$\\mathcal{H}[q_{t+1}] - \\mathcal{H}[q_{t}] = \\log |J(q_t)| = \\log |I - \\alpha H_t|$$\n",
    "\n",
    "$J$ - jacobian, $H$ - hessian\n",
    "\n",
    "Output ELBO (expectation will be approximated by monte-carlo sampling):\n",
    "\n",
    "$$ \\mathcal{L}[q_T] \\approx \\log p(z_T, x) + \\sum_{t=0}^T \\log |J(z_T)| + \\mathcal{H}[q_0]$$\n",
    "\n",
    "Jacobian approxiamtion:\n",
    "Algorithm is taken from the article [Early Stopping is Nonparametric Variational Inference](https://arxiv.org/pdf/1504.01344.pdf) (Algorithm 2).\n",
    "\n",
    "### Code:\n",
    "\n",
    "Some parts of naive-VAE implementation were taken from the [official jax documentation](https://github.com/google/jax/blob/main/examples/mnist_vae.py)\n",
    "Mnist was downloaded also by the [script from tutorials](https://github.com/google/jax/blob/main/examples/datasets.py)"
   ]
  },
  {
   "cell_type": "code",
   "execution_count": 58,
   "metadata": {
    "colab": {
     "base_uri": "https://localhost:8080/"
    },
    "id": "n1_IzDeu8-AZ",
    "outputId": "79775f74-c0c9-4c8c-e2e9-504213748878"
   },
   "outputs": [],
   "source": [
    "import os\n",
    "import time\n",
    "\n",
    "import matplotlib.pyplot as plt\n",
    "\n",
    "import jax\n",
    "import jax.numpy as jnp\n",
    "from jax import jit, grad, lax, random, hessian\n",
    "from jax.example_libraries import optimizers\n",
    "from jax.example_libraries import stax\n",
    "from optax import sigmoid_binary_cross_entropy\n",
    "from jax.example_libraries.stax import Dense, FanOut, Relu, Softplus\n",
    "import matplotlib.pyplot as plt\n",
    "from jax.scipy.stats import multivariate_normal\n",
    "import datasets\n",
    "\n",
    "LOG_STEP = 20\n",
    "STEP_SIZE = 1e-4\n",
    "NUM_EPOCHS = 100\n",
    "BATCH_SIZE = 100\n",
    "TEST_RNG = random.PRNGKey(1)\n",
    "\n",
    "FLOW_STEPS = 3\n",
    "ALPHA = 1e-3"
   ]
  },
  {
   "cell_type": "markdown",
   "metadata": {},
   "source": [
    "#### Loading data"
   ]
  },
  {
   "cell_type": "code",
   "execution_count": 18,
   "metadata": {
    "id": "8Yw-fJ3j_A_C"
   },
   "outputs": [
    {
     "name": "stdout",
     "output_type": "stream",
     "text": [
      "Train shape: (60000, 784)\n"
     ]
    }
   ],
   "source": [
    "# Downloading train data\n",
    "train_images, _, test_images, _ = datasets.mnist(permute_train=True)\n",
    "print(f'Train shape: {train_images.shape}')"
   ]
  },
  {
   "cell_type": "markdown",
   "metadata": {},
   "source": [
    "#### Defining necessary functions"
   ]
  },
  {
   "cell_type": "code",
   "execution_count": 93,
   "metadata": {
    "id": "6MzjI8xI_2u7"
   },
   "outputs": [],
   "source": [
    "def gaussian_sample(rng, mu, sigmasq):\n",
    "    '''\n",
    "    Samples random variable from multivariate \n",
    "    normal distribution given mean and cov.\n",
    "    '''\n",
    "    return mu + jnp.sqrt(sigmasq) * random.normal(rng, mu.shape)\n",
    "\n",
    "\n",
    "def gaussian_entropy(sigmasq):\n",
    "    '''Entropy of standart multivariate normal'''\n",
    "    return 0.5 * (jnp.sum(jnp.log(sigmasq))\n",
    "                  + sigmasq.shape[-1] * (1 + jnp.log(2 * jnp.pi)))\n",
    "\n",
    "\n",
    "def logpdf(logits, x, z):\n",
    "    '''\n",
    "    Loagirthm of joint distribution density function\n",
    "    log p(x, z) = log p(x|z) + log q(z)\n",
    "    '''\n",
    "    condition = -jnp.sum(sigmoid_binary_cross_entropy(logits, jnp.where(x, 1., 0.)))\n",
    "    prior_mean = jnp.zeros(z.shape[-1])\n",
    "    prior_cov = jnp.diag(jnp.ones(z.shape[-1]))\n",
    "    prior = jnp.sum(multivariate_normal.logpdf(z, mean=prior_mean, cov=prior_cov))\n",
    "    return condition + prior\n",
    "\n",
    "\n",
    "def hvp(f, z, v):\n",
    "    '''Hessian vector product for jacobian estimation'''\n",
    "    return grad(lambda x: jnp.vdot(grad(f)(x), v))(z)\n",
    "\n",
    "\n",
    "def log_jacobian_estimate(f, z, r_0):\n",
    "    '''\n",
    "    Logarithm of jacobian estimation\n",
    "    '''\n",
    "    r_1 = r_0 - ALPHA * hvp(f, z, r_0)\n",
    "    r_2 = r_1 - ALPHA * hvp(f, z, r_1)\n",
    "    return jnp.vdot(r_0, -2 * r_0 + 3 * r_1 - r_2)\n",
    "\n",
    "\n",
    "def elbo_grad_flow(rng, jacob_rng, params, images):\n",
    "    '''Computation of ELBO with several steps of gradient flow'''\n",
    "    enc_params, dec_params = params\n",
    "    mu_z, sigmasq_z = encode(enc_params, images)\n",
    "\n",
    "    curr_z = gaussian_sample(rng, mu_z, sigmasq_z)\n",
    "    curr_entropy = gaussian_entropy(sigmasq_z)\n",
    "\n",
    "    jacob_init_r = gaussian_sample(jacob_rng, mu_z, sigmasq_z)\n",
    "    logpdf_func = lambda z: logpdf(decode(dec_params, z), images, z)\n",
    "    for j in range(FLOW_STEPS):\n",
    "        curr_entropy += log_jacobian_estimate(logpdf_func, curr_z, jacob_init_r)\n",
    "        curr_z += ALPHA * grad(logpdf_func)(curr_z)\n",
    "\n",
    "    return logpdf_func(curr_z) + curr_entropy\n",
    "\n",
    "\n",
    "def inference(rng, jacob_rng, params, image, grad_flow=False):\n",
    "    '''Reconstruction of image from the original one'''\n",
    "    enc_params, dec_params = params\n",
    "    \n",
    "    mu_z, sigmasq_z = encode(enc_params, image)\n",
    "    curr_z = gaussian_sample(rng, mu_z, sigmasq_z)\n",
    "    \n",
    "    if grad_flow:\n",
    "        logpdf_func = lambda z: logpdf(decode(dec_params, z), image, z)\n",
    "        for j in range(FLOW_STEPS):\n",
    "            curr_z += ALPHA * grad(logpdf_func)(curr_z)\n",
    "    \n",
    "    return decode(dec_params, curr_z)\n",
    "    \n",
    "\n",
    "def elbo(rng, jacob_rng, params, images):\n",
    "    '''Naive VAE ELBO computation'''\n",
    "    enc_params, dec_params = params\n",
    "    mu_z, sigmasq_z = encode(enc_params, images)\n",
    "    z = gaussian_sample(rng, mu_z, sigmasq_z)\n",
    "    logits_x = decode(dec_params, z)\n",
    "    return logpdf(logits_x, images, z) + gaussian_entropy(sigmasq_z)"
   ]
  },
  {
   "cell_type": "markdown",
   "metadata": {},
   "source": [
    "#### Defining model architecture"
   ]
  },
  {
   "cell_type": "code",
   "execution_count": 22,
   "metadata": {
    "id": "74sq62M8_WPu"
   },
   "outputs": [],
   "source": [
    "# MLP definitions\n",
    "encoder_init, encode = stax.serial(\n",
    "    Dense(300), Relu,\n",
    "    Dense(300), Relu,\n",
    "    FanOut(2),\n",
    "    stax.parallel(Dense(10), stax.serial(Dense(10), Softplus)),\n",
    ")\n",
    "\n",
    "decoder_init, decode = stax.serial(\n",
    "    Dense(300), Relu,\n",
    "    Dense(300), Relu,\n",
    "    Dense(28 * 28),\n",
    ")"
   ]
  },
  {
   "cell_type": "code",
   "execution_count": 23,
   "metadata": {
    "id": "IhZ-OcpVACbu"
   },
   "outputs": [],
   "source": [
    "# transfering data to GPU\n",
    "train_images = jax.device_put(train_images)\n",
    "test_images = jax.device_put(test_images)"
   ]
  },
  {
   "cell_type": "code",
   "execution_count": 14,
   "metadata": {
    "id": "ypU5PXJ7E-5J"
   },
   "outputs": [],
   "source": [
    "num_complete_batches, leftover = divmod(train_images.shape[0], BATCH_SIZE)\n",
    "num_batches = num_complete_batches + bool(leftover)"
   ]
  },
  {
   "cell_type": "markdown",
   "metadata": {},
   "source": [
    "#### Train-evaluate pipeline"
   ]
  },
  {
   "cell_type": "code",
   "execution_count": 15,
   "metadata": {
    "id": "hGn8E-HuD7FK"
   },
   "outputs": [],
   "source": [
    "def binarize_batch(rng, i, images):\n",
    "    '''We train our VAE on binarized MNIST'''\n",
    "    i = i % num_batches\n",
    "    batch = lax.dynamic_slice_in_dim(images, i * BATCH_SIZE, BATCH_SIZE)\n",
    "    return random.bernoulli(rng, batch)\n",
    "\n",
    "def run_epoch(rng, opt_state, images, grad_flow):\n",
    "    def body_fun(i, opt_state):\n",
    "        elbo_rng, data_rng, jacob_rng = random.split(random.fold_in(rng, i), 3)\n",
    "        batch = binarize_batch(data_rng, i, images)\n",
    "        if grad_flow:\n",
    "            loss = lambda params: -elbo_grad_flow(elbo_rng, jacob_rng, params, batch) / BATCH_SIZE\n",
    "        else:\n",
    "            loss = lambda params: -elbo(elbo_rng, jacob_rng, params, batch) / BATCH_SIZE\n",
    "        g = grad(loss)(get_params(opt_state))\n",
    "        return opt_update(i, g, opt_state)\n",
    "    return lax.fori_loop(0, num_batches, body_fun, opt_state)\n",
    "\n",
    "def evaluate(opt_state, images, grad_flow):\n",
    "    params = get_params(opt_state)\n",
    "    elbo_rng, jacob_rng, data_rng, image_rng = random.split(TEST_RNG, 4)\n",
    "    binarized_test = random.bernoulli(data_rng, images)\n",
    "\n",
    "    if grad_flow:\n",
    "        test_elbo = elbo_grad_flow(elbo_rng, jacob_rng, params, binarized_test) / images.shape[0]\n",
    "    else:\n",
    "        test_elbo = elbo(elbo_rng, jacob_rng, params, binarized_test) / images.shape[0]\n",
    "    return test_elbo"
   ]
  },
  {
   "cell_type": "markdown",
   "metadata": {},
   "source": [
    "#### Training naive VAE and VAE with gradient ascend augmentation"
   ]
  },
  {
   "cell_type": "code",
   "execution_count": 57,
   "metadata": {
    "colab": {
     "base_uri": "https://localhost:8080/",
     "height": 1000
    },
    "id": "NNZKb5zTELZD",
    "outputId": "321a6420-5d65-4f7d-a3b4-650072e59c40"
   },
   "outputs": [
    {
     "name": "stdout",
     "output_type": "stream",
     "text": [
      " 20 -134.04637145996094 (1.300 sec)\n",
      " 40 -127.23532104492188 (1.300 sec)\n",
      " 60 -123.99864196777344 (1.296 sec)\n",
      " 80 -121.95693969726562 (1.285 sec)\n",
      " 100 -120.49928283691406 (1.292 sec)\n"
     ]
    }
   ],
   "source": [
    "# initailizating weights and hyperparameters\n",
    "enc_init_rng, dec_init_rng = random.split(random.PRNGKey(2))\n",
    "_, init_encoder_params = encoder_init(enc_init_rng, (BATCH_SIZE, 28 * 28))\n",
    "_, init_decoder_params = decoder_init(dec_init_rng, (BATCH_SIZE, 10))\n",
    "init_params = init_encoder_params, init_decoder_params\n",
    "\n",
    "opt_init, opt_update, get_params = optimizers.adam(STEP_SIZE)\n",
    "opt_state_naive = opt_init(init_params)\n",
    "\n",
    "#train loop\n",
    "elbos = []\n",
    "for epoch in range(NUM_EPOCHS):\n",
    "    tic = time.time()\n",
    "    opt_state_naive = run_epoch(random.PRNGKey(epoch), opt_state_naive, train_images, grad_flow=False)\n",
    "    test_elbo = evaluate(opt_state_naive, test_images, grad_flow=False)\n",
    "    elbos.append(test_elbo)\n",
    "    if (epoch + 1) % LOG_STEP == 0:\n",
    "        print(f\"{(epoch + 1): 3d} {test_elbo} ({time.time() - tic:.3f} sec)\")"
   ]
  },
  {
   "cell_type": "code",
   "execution_count": 30,
   "metadata": {
    "colab": {
     "base_uri": "https://localhost:8080/",
     "height": 1000
    },
    "id": "tgGKvX28HsU8",
    "outputId": "a19903bb-4048-4ca0-e889-2745feafb46d"
   },
   "outputs": [
    {
     "name": "stdout",
     "output_type": "stream",
     "text": [
      " 20 -131.54287719726562 (9.119 sec)\n",
      " 40 -122.62638092041016 (9.278 sec)\n",
      " 60 -119.34474182128906 (9.038 sec)\n",
      " 80 -116.3571548461914 (9.089 sec)\n",
      " 100 -113.30575561523438 (9.288 sec)\n"
     ]
    }
   ],
   "source": [
    "# initailizating weights and hyperparameters\n",
    "enc_init_rng, dec_init_rng = random.split(random.PRNGKey(2))\n",
    "_, init_encoder_params = encoder_init(enc_init_rng, (BATCH_SIZE, 28 * 28))\n",
    "_, init_decoder_params = decoder_init(dec_init_rng, (BATCH_SIZE, 10))\n",
    "init_params = init_encoder_params, init_decoder_params\n",
    "\n",
    "opt_init, opt_update, get_params = optimizers.adam(STEP_SIZE)\n",
    "opt_state = opt_init(init_params)\n",
    "\n",
    "#train loop\n",
    "elbos_grad_flow = []\n",
    "for epoch in range(NUM_EPOCHS):\n",
    "    tic = time.time()\n",
    "    opt_state = run_epoch(random.PRNGKey(epoch), opt_state, train_images, grad_flow=True)\n",
    "    test_elbo = evaluate(opt_state, test_images, grad_flow=True)\n",
    "    elbos_grad_flow.append(test_elbo)\n",
    "    if (epoch + 1) % LOG_STEP == 0:\n",
    "        print(f\"{(epoch + 1): 3d} {test_elbo} ({time.time() - tic:.3f} sec)\")"
   ]
  },
  {
   "cell_type": "markdown",
   "metadata": {},
   "source": [
    "#### ELBO on test set"
   ]
  },
  {
   "cell_type": "code",
   "execution_count": 94,
   "metadata": {
    "colab": {
     "base_uri": "https://localhost:8080/",
     "height": 265
    },
    "id": "Bsrqtu0EQ1wI",
    "outputId": "b82d6330-238c-44cc-f8a8-86d7e9002be9"
   },
   "outputs": [
    {
     "data": {
      "image/png": "[encoded data removed]",
      "text/plain": [
       "<Figure size 800x400 with 1 Axes>"
      ]
     },
     "metadata": {},
     "output_type": "display_data"
    }
   ],
   "source": [
    "plt.figure(figsize=(8, 4))\n",
    "\n",
    "plt.plot(jnp.arange(len(elbos)), elbos, label='Naive VAE')\n",
    "plt.plot(jnp.arange(len(elbos_grad_flow)), elbos_grad_flow, label='Gradient Flow VAE')\n",
    "\n",
    "plt.title('Test loss')\n",
    "plt.xlabel('epoch')\n",
    "plt.ylabel('ELBO')\n",
    "plt.legend()\n",
    "\n",
    "plt.show()"
   ]
  },
  {
   "cell_type": "markdown",
   "metadata": {},
   "source": [
    "#### Some examples"
   ]
  },
  {
   "cell_type": "code",
   "execution_count": 95,
   "metadata": {},
   "outputs": [],
   "source": [
    "test_image = test_images[0]\n",
    "elbo_rng, jacob_rng = random.split(TEST_RNG, 2)\n",
    "reconstructed_naive = jax.nn.sigmoid(inference(elbo_rng, jacob_rng,\n",
    "                                               get_params(opt_state_naive), test_image))\n",
    "reconstructed_grad_flow = jax.nn.sigmoid(inference(elbo_rng, jacob_rng,\n",
    "                                                   get_params(opt_state), test_image, grad_flow=True))"
   ]
  },
  {
   "cell_type": "code",
   "execution_count": 96,
   "metadata": {},
   "outputs": [
    {
     "data": {
      "image/png": "[encoded data removed]",
      "text/plain": [
       "<Figure size 1000x300 with 3 Axes>"
      ]
     },
     "metadata": {},
     "output_type": "display_data"
    }
   ],
   "source": [
    "plt.figure(figsize=(10, 3))\n",
    "\n",
    "plt.subplot(131)\n",
    "plt.imshow(test_image.reshape((28, 28)))\n",
    "plt.title('Original image')\n",
    "plt.subplot(132)\n",
    "plt.imshow(reconstructed_naive.reshape((28, 28)))\n",
    "plt.title('VAE reconstruction')\n",
    "plt.subplot(133)\n",
    "plt.imshow(reconstructed_grad_flow.reshape((28, 28)))\n",
    "plt.title('GF VAE reconstruction')\n",
    "\n",
    "plt.show()"
   ]
  },
  {
   "cell_type": "markdown",
   "metadata": {
    "id": "tsp_6XKqQoe9"
   },
   "source": [
    "#### Conclusion\n",
    "\n",
    "As we can see on test ELBO plot, variational autoencoder performs better than the original one. Thus, we reproduced results from the original article.\n",
    "\n",
    "Visually, the third image is a little more similar to the original. However, the considered examples of image reconstruction do not show strong differences between naive VAE and VAE with gradient ascend. This could be due to simpleness of MNIST dataset or simpleness of considered backbone network architecture."
   ]
  },
  {
   "cell_type": "code",
   "execution_count": null,
   "metadata": {},
   "outputs": [],
   "source": []
  }
 ],
 "metadata": {
  "accelerator": "GPU",
  "colab": {
   "collapsed_sections": [],
   "provenance": []
  },
  "gpuClass": "standard",
  "kernelspec": {
   "display_name": "Python 3 (ipykernel)",
   "language": "python",
   "name": "python3"
  },
  "language_info": {
   "codemirror_mode": {
    "name": "ipython",
    "version": 3
   },
   "file_extension": ".py",
   "mimetype": "text/x-python",
   "name": "python",
   "nbconvert_exporter": "python",
   "pygments_lexer": "ipython3",
   "version": "3.8.0"
  }
 },
 "nbformat": 4,
 "nbformat_minor": 4
}
